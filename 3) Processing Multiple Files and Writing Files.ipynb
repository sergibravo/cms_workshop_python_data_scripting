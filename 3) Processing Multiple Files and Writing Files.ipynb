{
 "cells": [
  {
   "cell_type": "markdown",
   "id": "9f9dba3f",
   "metadata": {},
   "source": [
    "# Processing multiple files\n"
   ]
  },
  {
   "cell_type": "code",
   "execution_count": 2,
   "id": "ea48c62c",
   "metadata": {},
   "outputs": [
    {
     "name": "stdout",
     "output_type": "stream",
     "text": [
      "03_Prod.mdout\r\n",
      "1) Introduction.ipynb\r\n",
      "2) Parsing files.ipynb\r\n",
      "3) Processing Multiple Files and Writing Files.ipynb\r\n",
      "Untitled.ipynb\r\n",
      "benzene.xyz\r\n",
      "buckminsterfullerene.xyz\r\n",
      "distance_data_headers.csv\r\n",
      "\u001b[34moutfiles\u001b[m\u001b[m/\r\n",
      "sapt.out\r\n",
      "water.xyz\r\n"
     ]
    }
   ],
   "source": [
    "ls"
   ]
  },
  {
   "cell_type": "code",
   "execution_count": 1,
   "id": "07e4f122",
   "metadata": {},
   "outputs": [
    {
     "name": "stdout",
     "output_type": "stream",
     "text": [
      "data/outfiles/*.out\n"
     ]
    }
   ],
   "source": [
    "import os\n",
    "\n",
    "file_location=os.path.join('data', 'outfiles','*.out')\n",
    "print(file_location)\n"
   ]
  },
  {
   "cell_type": "code",
   "execution_count": 2,
   "id": "aeb28035",
   "metadata": {},
   "outputs": [
    {
     "name": "stdout",
     "output_type": "stream",
     "text": [
      "['data/outfiles/propanol.out', 'data/outfiles/pentanol.out', 'data/outfiles/decanol.out', 'data/outfiles/methanol.out', 'data/outfiles/octanol.out', 'data/outfiles/ethanol.out', 'data/outfiles/hexanol.out', 'data/outfiles/heptanol.out', 'data/outfiles/butanol.out', 'data/outfiles/nonanol.out']\n"
     ]
    }
   ],
   "source": [
    "import glob\n",
    "filenames = glob.glob(file_location)\n",
    "print(filenames)"
   ]
  },
  {
   "cell_type": "code",
   "execution_count": 23,
   "id": "e27039c5",
   "metadata": {},
   "outputs": [
    {
     "name": "stdout",
     "output_type": "stream",
     "text": [
      "-193.12836249728798\n",
      "-271.20138119895074\n",
      "-466.3836241400086\n",
      "-115.04800861868374\n",
      "-388.3110864554743\n",
      "-154.09130176573018\n",
      "-310.2385332251633\n",
      "-349.27397687072676\n",
      "-232.1655798347283\n",
      "-427.3465180082815\n"
     ]
    }
   ],
   "source": [
    "for f in filenames:\n",
    "    with open (f,'r') as outfile:\n",
    "        data=outfile.readlines()\n",
    "        \n",
    "    for line in data:\n",
    "        if 'Final Energy' in line:\n",
    "            energy_line=line\n",
    "            words=energy_line.split()\n",
    "            energy=float(words[3])\n",
    "            print(energy)"
   ]
  },
  {
   "cell_type": "code",
   "execution_count": 9,
   "id": "e56e5e6b",
   "metadata": {},
   "outputs": [
    {
     "name": "stdout",
     "output_type": "stream",
     "text": [
      "data/outfiles/propanol.out\n",
      "propanol.out\n"
     ]
    }
   ],
   "source": [
    "first_file = filenames[0]\n",
    "print(first_file)\n",
    "\n",
    "file_name = os.path.basename(first_file)\n",
    "print(file_name)"
   ]
  },
  {
   "cell_type": "code",
   "execution_count": 21,
   "id": "7df1cca6",
   "metadata": {},
   "outputs": [
    {
     "name": "stdout",
     "output_type": "stream",
     "text": [
      "propanol\n"
     ]
    }
   ],
   "source": [
    "separated_file_name=file_name.split(\".\")\n",
    "molecule_name=separated_file_name[0]\n",
    "print(molecule_name)"
   ]
  },
  {
   "cell_type": "code",
   "execution_count": 43,
   "id": "17cebd58",
   "metadata": {},
   "outputs": [
    {
     "name": "stdout",
     "output_type": "stream",
     "text": [
      "The molecule propanol has a final energy of -193.12836249728798\n",
      "The molecule pentanol has a final energy of -271.20138119895074\n",
      "The molecule decanol has a final energy of -466.3836241400086\n",
      "The molecule methanol has a final energy of -115.04800861868374\n",
      "The molecule octanol has a final energy of -388.3110864554743\n",
      "The molecule ethanol has a final energy of -154.09130176573018\n",
      "The molecule hexanol has a final energy of -310.2385332251633\n",
      "The molecule heptanol has a final energy of -349.27397687072676\n",
      "The molecule butanol has a final energy of -232.1655798347283\n",
      "The molecule nonanol has a final energy of -427.3465180082815\n"
     ]
    }
   ],
   "source": [
    "for f in filenames:\n",
    "    file_name=os.path.basename(f)\n",
    "    separated_file_name=file_name.split(\".\")\n",
    "    molecule_name=separated_file_name[0]\n",
    "    \n",
    "    with open (f,'r') as outfile:\n",
    "        data=outfile.readlines()\n",
    "    \n",
    "    for line in data:\n",
    "        if 'Final Energy' in line:\n",
    "            energy_line=line\n",
    "            words=energy_line.split()\n",
    "            energy=float(words[3])\n",
    "            print(\"The molecule {} has a final energy of {}\".format(molecule_name,energy))\n",
    "            \n",
    "           \n"
   ]
  },
  {
   "cell_type": "markdown",
   "id": "52de0213",
   "metadata": {},
   "source": [
    "## Printing to a File\n"
   ]
  },
  {
   "cell_type": "code",
   "execution_count": 55,
   "id": "ffc98900",
   "metadata": {},
   "outputs": [],
   "source": [
    "datafile = open('energies.txt','w+')  #This opens the file for writing\n",
    "\n",
    "for f in filenames:\n",
    "    file_name=os.path.basename(f)\n",
    "    separated_file_name=file_name.split(\".\")\n",
    "    molecule_name=separated_file_name[0]\n",
    "    \n",
    "    with open (f,'r') as outfile:\n",
    "        data=outfile.readlines()\n",
    "    \n",
    "    for line in data:\n",
    "        if 'Final Energy' in line:\n",
    "            energy_line=line\n",
    "            words=energy_line.split()\n",
    "            energy=float(words[3])\n",
    "           \n",
    "            datafile.write(F'{molecule_name} \\t {energy} \\n')\n",
    "\n",
    "datafile.close()"
   ]
  },
  {
   "cell_type": "markdown",
   "id": "c581c4a7",
   "metadata": {},
   "source": [
    "Alternative method to create a file using 'with' instead of open and close:"
   ]
  },
  {
   "cell_type": "code",
   "execution_count": 56,
   "id": "176e761e",
   "metadata": {},
   "outputs": [],
   "source": [
    "#An alternative for opening a file with 'with':\n",
    "\n",
    "with open('energies2.txt', 'w+') as datafile:\n",
    "\n",
    "    for f in filenames:\n",
    "        file_name=os.path.basename(f)\n",
    "        separated_file_name=file_name.split(\".\")\n",
    "        molecule_name=separated_file_name[0]\n",
    "\n",
    "        with open (f,'r') as outfile:\n",
    "            data=outfile.readlines()\n",
    "\n",
    "        for line in data:\n",
    "            if 'Final Energy' in line:\n",
    "                energy_line=line\n",
    "                words=energy_line.split()\n",
    "                energy=float(words[3])\n",
    "                datafile.write(F'{molecule_name} \\t {energy} \\n')\n"
   ]
  },
  {
   "cell_type": "markdown",
   "id": "7b198d95",
   "metadata": {},
   "source": [
    "## Final assigment"
   ]
  },
  {
   "cell_type": "code",
   "execution_count": 67,
   "id": "d95aa537",
   "metadata": {},
   "outputs": [],
   "source": [
    "import os.path\n",
    "\n",
    "file_location = os.path.join('data','03_Prod.mdout')\n",
    "\n",
    "with open ('Etot.txt', 'w+') as datafile:\n",
    "    with open (file_location, 'r') as outfile:\n",
    "        data=outfile.readlines()\n",
    "        \n",
    "    for line in data:\n",
    "        if 'Etot' in line:\n",
    "            line_to_words=line.split()\n",
    "            Etot=line_to_words[2]\n",
    "            datafile.write(F'{Etot}\\n')\n",
    "            \n",
    "            "
   ]
  },
  {
   "cell_type": "code",
   "execution_count": null,
   "id": "210738e7",
   "metadata": {},
   "outputs": [],
   "source": []
  }
 ],
 "metadata": {
  "kernelspec": {
   "display_name": "Python 3 (ipykernel)",
   "language": "python",
   "name": "python3"
  },
  "language_info": {
   "codemirror_mode": {
    "name": "ipython",
    "version": 3
   },
   "file_extension": ".py",
   "mimetype": "text/x-python",
   "name": "python",
   "nbconvert_exporter": "python",
   "pygments_lexer": "ipython3",
   "version": "3.11.5"
  }
 },
 "nbformat": 4,
 "nbformat_minor": 5
}
