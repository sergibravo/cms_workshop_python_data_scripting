{
 "cells": [
  {
   "cell_type": "markdown",
   "id": "a3394945",
   "metadata": {},
   "source": [
    "## Changing your code to accept user inputs\n"
   ]
  },
  {
   "cell_type": "markdown",
   "id": "41ad37f5",
   "metadata": {},
   "source": [
    "We are importing a library called https://docs.python.org/3/library/argparse.html which can be used to easily make scripts with command line arguments. Argparse has the ability to allow us to easily write documentation for our scripts as well.\n",
    "\n",
    "We tell argparse that we want to add a command line interface. The syntax for this is"
   ]
  },
  {
   "cell_type": "code",
   "execution_count": 3,
   "id": "3afb3072",
   "metadata": {},
   "outputs": [],
   "source": [
    "import argparse\n",
    "parser = argparse.ArgumentParser(description=\"This script analyzes a user given xyz file and outputs the length of the bonds.\")\n"
   ]
  },
  {
   "cell_type": "markdown",
   "id": "15c26087",
   "metadata": {},
   "source": [
    "Next, we have to tell argparse what arguments it should expect. In general, the syntax for this is\n",
    "\n"
   ]
  },
  {
   "cell_type": "code",
   "execution_count": 6,
   "id": "46fde3e7",
   "metadata": {},
   "outputs": [
    {
     "data": {
      "text/plain": [
       "_StoreAction(option_strings=[], dest='argument_name', nargs=None, const=None, default=None, type=None, choices=None, required=True, help='Your help message for this argument.', metavar=None)"
      ]
     },
     "execution_count": 6,
     "metadata": {},
     "output_type": "execute_result"
    }
   ],
   "source": [
    "parser.add_argument(\"argument_name\", help=\"Your help message for this argument.\")\n"
   ]
  },
  {
   "cell_type": "markdown",
   "id": "c32850a6",
   "metadata": {},
   "source": [
    "In our xyz example:"
   ]
  },
  {
   "cell_type": "code",
   "execution_count": 7,
   "id": "f089ca19",
   "metadata": {},
   "outputs": [
    {
     "data": {
      "text/plain": [
       "_StoreAction(option_strings=[], dest='xyz_file', nargs=None, const=None, default=None, type=None, choices=None, required=True, help='The filepath for the xyz file to analyze.', metavar=None)"
      ]
     },
     "execution_count": 7,
     "metadata": {},
     "output_type": "execute_result"
    }
   ],
   "source": [
    "parser.add_argument(\"xyz_file\", help=\"The filepath for the xyz file to analyze.\")\n"
   ]
  },
  {
   "cell_type": "markdown",
   "id": "137b6767",
   "metadata": {},
   "source": [
    "## The “main” part of our script"
   ]
  },
  {
   "cell_type": "markdown",
   "id": "b3bac715",
   "metadata": {},
   "source": [
    "We need to add one more thing to our code. When you write a code that includes function definitions and a main script, you need to tell python which part is the main script. (This becomes very important later when we are talking about testing.) After your import statements and function definitions and before use argparse"
   ]
  },
  {
   "cell_type": "markdown",
   "id": "81021050",
   "metadata": {},
   "source": [
    "## Extension - Optional Arguments\n"
   ]
  },
  {
   "cell_type": "markdown",
   "id": "d9ec56d9",
   "metadata": {},
   "source": [
    "What’s another argument we might want to include? We also might want to let the user specify a minimum and maximum bond length on the command line. We would want these to be optional, just like they are in our function.\n",
    "\n",
    "We can add optional arguments by putting a dash (-) or two dashes (--) in front of the argument name when we add an argument. Add this line below where you added the fist argument. Note that all add_argument lines should be above the line with parse_args."
   ]
  },
  {
   "cell_type": "markdown",
   "id": "96959ee1",
   "metadata": {},
   "source": [
    "## The rest of the code is in the .py files in the cms-workshop folder"
   ]
  },
  {
   "cell_type": "code",
   "execution_count": null,
   "id": "02ee4c12",
   "metadata": {},
   "outputs": [],
   "source": []
  }
 ],
 "metadata": {
  "kernelspec": {
   "display_name": "Python 3 (ipykernel)",
   "language": "python",
   "name": "python3"
  },
  "language_info": {
   "codemirror_mode": {
    "name": "ipython",
    "version": 3
   },
   "file_extension": ".py",
   "mimetype": "text/x-python",
   "name": "python",
   "nbconvert_exporter": "python",
   "pygments_lexer": "ipython3",
   "version": "3.11.5"
  }
 },
 "nbformat": 4,
 "nbformat_minor": 5
}
