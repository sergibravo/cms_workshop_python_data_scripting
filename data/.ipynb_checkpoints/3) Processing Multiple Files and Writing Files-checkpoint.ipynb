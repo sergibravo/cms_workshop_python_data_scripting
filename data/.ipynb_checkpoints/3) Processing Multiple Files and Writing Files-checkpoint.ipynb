{
 "cells": [
  {
   "cell_type": "markdown",
   "id": "229e4928",
   "metadata": {},
   "source": [
    "# Processing multiple files\n"
   ]
  },
  {
   "cell_type": "code",
   "execution_count": 1,
   "id": "84893ed6",
   "metadata": {},
   "outputs": [
    {
     "data": {
      "text/plain": [
       "<function dir>"
      ]
     },
     "execution_count": 1,
     "metadata": {},
     "output_type": "execute_result"
    }
   ],
   "source": []
  },
  {
   "cell_type": "code",
   "execution_count": null,
   "id": "518bf2ce",
   "metadata": {},
   "outputs": [],
   "source": []
  }
 ],
 "metadata": {
  "kernelspec": {
   "display_name": "Python 3 (ipykernel)",
   "language": "python",
   "name": "python3"
  },
  "language_info": {
   "codemirror_mode": {
    "name": "ipython",
    "version": 3
   },
   "file_extension": ".py",
   "mimetype": "text/x-python",
   "name": "python",
   "nbconvert_exporter": "python",
   "pygments_lexer": "ipython3",
   "version": "3.11.5"
  }
 },
 "nbformat": 4,
 "nbformat_minor": 5
}
