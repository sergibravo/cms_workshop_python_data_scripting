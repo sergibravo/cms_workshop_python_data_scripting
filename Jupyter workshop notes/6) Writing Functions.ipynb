{
 "cells": [
  {
   "cell_type": "markdown",
   "id": "ade3b2f3",
   "metadata": {},
   "source": [
    "# Writing functions into our geometry analysis project"
   ]
  },
  {
   "cell_type": "code",
   "execution_count": 2,
   "id": "352ad319",
   "metadata": {},
   "outputs": [
    {
     "name": "stdout",
     "output_type": "stream",
     "text": [
      "O to H1 : 0.969\n",
      "O to H2 : 0.969\n"
     ]
    }
   ],
   "source": [
    "import numpy\n",
    "import os\n",
    "\n",
    "file_location = os.path.join('data', 'water.xyz')\n",
    "xyz_file = numpy.genfromtxt(fname=file_location, skip_header=2, dtype='unicode')\n",
    "\n",
    "symbols = xyz_file[:, 0]\n",
    "coordinates = xyz_file[:, 1:]\n",
    "coordinates = coordinates.astype(float)\n",
    "num_atoms = len(symbols)\n",
    "\n",
    "for num1 in range(0, num_atoms):\n",
    "    for num2 in range(0, num_atoms):\n",
    "        if num1 < num2:\n",
    "            x_distance = coordinates[num1, 0] - coordinates[num2, 0]\n",
    "            y_distance = coordinates[num1, 1] - coordinates[num2, 1]\n",
    "            z_distance = coordinates[num1, 2] - coordinates[num2, 2]\n",
    "            bond_length_12 = numpy.sqrt(x_distance ** 2 + y_distance ** 2 + z_distance ** 2)\n",
    "            if bond_length_12 > 0 and bond_length_12 <= 1.5:\n",
    "                print(F'{symbols[num1]} to {symbols[num2]} : {bond_length_12:.3f}')"
   ]
  },
  {
   "cell_type": "markdown",
   "id": "1b000756",
   "metadata": {},
   "source": [
    "To think about where we should write functions in this code, let’s think about parts we may want to use again or in other places. One of the first places we might think of is in the bond distance calculation. Perhaps we’d want to calculate a bond distance in some other script. We can reduce the likelihood of errors in our code by defining this in a function (so that if we wanted to change our bond calculation, we would only have to do it in one place.)\n",
    "\n",
    "Let’s change this code so that we write a function to calculate the bond distance. As explained above, to define a function, you start with the word def and then give the name of the function. In parenthesis are in inputs of the function followed by a colon. The the statements the function is going to execute are indented on the next lines. For this function, we will return a value. The last line of a function shows the return value for the function, which we can use to store a variable with the output value. Let’s write a function to calculate the distance between atoms.\n"
   ]
  },
  {
   "cell_type": "code",
   "execution_count": 5,
   "id": "2b4cec9d",
   "metadata": {},
   "outputs": [],
   "source": [
    "def calculate_distance(atom1_coord, atom2_coord):\n",
    "    x_distance = atom1_coord[0] - atom2_coord[0]\n",
    "    y_distance = atom1_coord[1] - atom2_coord[1]\n",
    "    z_distance = atom1_coord[2] - atom2_coord[2]\n",
    "    bond_length_12 = numpy.sqrt(x_distance ** 2 + y_distance ** 2 + z_distance ** 2)\n",
    "    return bond_length_12"
   ]
  },
  {
   "cell_type": "code",
   "execution_count": 6,
   "id": "e35d417c",
   "metadata": {},
   "outputs": [
    {
     "name": "stdout",
     "output_type": "stream",
     "text": [
      "O to H1 : 0.969\n",
      "O to H2 : 0.969\n"
     ]
    }
   ],
   "source": [
    "for num1 in range(0, num_atoms):\n",
    "    for num2 in range(0, num_atoms):\n",
    "        if num1 < num2:\n",
    "            bond_length_12 = calculate_distance(coordinates[num1], coordinates[num2])\n",
    "            if bond_length_12 > 0 and bond_length_12 <= 1.5:\n",
    "                print(F'{symbols[num1]} to {symbols[num2]} : {bond_length_12:.3f}')"
   ]
  },
  {
   "cell_type": "code",
   "execution_count": 8,
   "id": "c0d95126",
   "metadata": {},
   "outputs": [],
   "source": [
    "def bond_check(atom_distance):\n",
    "    if atom_distance > 0 and atom_distance <= 1.5:\n",
    "        return True\n",
    "    else:\n",
    "        return False"
   ]
  },
  {
   "cell_type": "markdown",
   "id": "5647a5bb",
   "metadata": {},
   "source": [
    "Modify the bond_check function to take a minimum length and a maximum length as user input.\n"
   ]
  },
  {
   "cell_type": "code",
   "execution_count": 15,
   "id": "64dd51cf",
   "metadata": {},
   "outputs": [],
   "source": [
    "def bond_check(atom_distance,min_distance,max_distance):\n",
    "    if atom_distance > min_distance and atom_distance <= max_distance:\n",
    "        return True\n",
    "    else:\n",
    "        return False"
   ]
  },
  {
   "cell_type": "markdown",
   "id": "9641c651",
   "metadata": {},
   "source": [
    "# Function Documentation\n"
   ]
  },
  {
   "cell_type": "code",
   "execution_count": 1,
   "id": "65f92909",
   "metadata": {},
   "outputs": [],
   "source": [
    "def calculate_distance(atom1_coord, atom2_coord):\n",
    "    \"\"\"Calculate the distance between two three-dimensional points.\"\"\"\n",
    "\n",
    "    x_distance = atom1_coord[0] - atom2_coord[0]\n",
    "    y_distance = atom1_coord[1] - atom2_coord[1]\n",
    "    z_distance = atom1_coord[2] - atom2_coord[2]\n",
    "    bond_length_12 = numpy.sqrt(x_distance**2+y_distance**2+z_distance**2)\n",
    "    return bond_length_12"
   ]
  },
  {
   "cell_type": "code",
   "execution_count": 2,
   "id": "37043cf4",
   "metadata": {},
   "outputs": [
    {
     "name": "stdout",
     "output_type": "stream",
     "text": [
      "Help on function calculate_distance in module __main__:\n",
      "\n",
      "calculate_distance(atom1_coord, atom2_coord)\n",
      "    Calculate the distance between two three-dimensional points.\n",
      "\n"
     ]
    }
   ],
   "source": [
    "help(calculate_distance)"
   ]
  },
  {
   "cell_type": "markdown",
   "id": "9e1b7e2a",
   "metadata": {},
   "source": [
    "## Function Default arguments\n"
   ]
  },
  {
   "cell_type": "markdown",
   "id": "7bbd410d",
   "metadata": {},
   "source": [
    "When there are parameters in a function definition, we can set these parameters to default values. This way, if the user does not input values, the default values can be used instead of the code just not working. For example, if we want the default values in bond check to be 0 and 1.5, we can change the function definition to the following:\n",
    "\n"
   ]
  },
  {
   "cell_type": "code",
   "execution_count": 3,
   "id": "23374460",
   "metadata": {},
   "outputs": [],
   "source": [
    "def bond_check(atom_distance, minimum_length=0, maximum_length=1.5):\n",
    "    \"\"\"\n",
    "    Check if a distance is a bond based on a minimum and maximum bond length.\n",
    "    \"\"\"\n",
    "\n",
    "    if atom_distance > minimum_length and atom_distance <= maximum_length:\n",
    "        return True\n",
    "    else:\n",
    "        return False"
   ]
  },
  {
   "cell_type": "code",
   "execution_count": 4,
   "id": "5104e8f2",
   "metadata": {},
   "outputs": [
    {
     "name": "stdout",
     "output_type": "stream",
     "text": [
      "True\n",
      "False\n"
     ]
    }
   ],
   "source": [
    "print(bond_check(1.5))\n",
    "print(bond_check(1.6))"
   ]
  },
  {
   "cell_type": "code",
   "execution_count": 14,
   "id": "9b83715b",
   "metadata": {},
   "outputs": [],
   "source": [
    "def open_xyz(file_location):\n",
    "    xyz_file = numpy.genfromtxt(fname=file_location, skip_header=2, dtype='unicode')\n",
    "    symbols = xyz_file[:, 0]\n",
    "    coordinates = xyz_file[:, 1:]\n",
    "    coordinates = coordinates.astype(float)\n",
    "    \n",
    "    return symbols, coordinates"
   ]
  },
  {
   "cell_type": "markdown",
   "id": "73da564a",
   "metadata": {},
   "source": [
    "With all 3 functions, the script looks like this:"
   ]
  },
  {
   "cell_type": "code",
   "execution_count": 15,
   "id": "751f8f2b",
   "metadata": {},
   "outputs": [
    {
     "name": "stdout",
     "output_type": "stream",
     "text": [
      "O to H1 : 0.969\n",
      "O to H2 : 0.969\n"
     ]
    }
   ],
   "source": [
    "import numpy\n",
    "import os\n",
    "\n",
    "file_location = os.path.join('data', 'water.xyz')\n",
    "symbols, coord = open_xyz(file_location)\n",
    "num_atoms = len(symbols)\n",
    "\n",
    "for num1 in range(0, num_atoms):\n",
    "    for num2 in range(0, num_atoms):\n",
    "        if num1 < num2:\n",
    "            bond_length_12 = calculate_distance(coord[num1], coord[num2])\n",
    "            if bond_check(bond_length_12) is True:\n",
    "                print(F'{symbols[num1]} to {symbols[num2]} : {bond_length_12:.3f}')"
   ]
  },
  {
   "cell_type": "markdown",
   "id": "86ba20be",
   "metadata": {},
   "source": [
    "We will define a new function print_bonds, which takes bond symbols and coordinates from an xyz file as an input.\n",
    "\n"
   ]
  },
  {
   "cell_type": "code",
   "execution_count": 16,
   "id": "23bc36c4",
   "metadata": {},
   "outputs": [],
   "source": [
    "def print_bonds(atom_symbols, atom_coordinates):\n",
    "    num_atoms = len(atom_symbols)\n",
    "    for num1 in range(0, num_atoms):\n",
    "        for num2 in range(0, num_atoms):\n",
    "            if num1 < num2:\n",
    "                bond_length_12 = calculate_distance(atom_coordinates[num1], atom_coordinates[num2])\n",
    "                if bond_check(bond_length_12) is True:\n",
    "                    print(F'{atom_symbols[num1]} to {atom_symbols[num2]} : {bond_length_12:.3f}')\n",
    "                    "
   ]
  },
  {
   "cell_type": "markdown",
   "id": "f00082e8",
   "metadata": {},
   "source": [
    "If you were to put all the functions we wrote into a single cell, it looks like this:\n",
    "\n"
   ]
  },
  {
   "cell_type": "code",
   "execution_count": 19,
   "id": "be80e529",
   "metadata": {},
   "outputs": [],
   "source": [
    "import numpy\n",
    "import os\n",
    "\n",
    "def calculate_distance(atom1_coord, atom2_coord):\n",
    "    \"\"\"\n",
    "    Calculate the distance between two three-dimensional points.\n",
    "    \"\"\"\n",
    "    x_distance = atom1_coord[0] - atom2_coord[0]\n",
    "    y_distance = atom1_coord[1] - atom2_coord[1]\n",
    "    z_distance = atom1_coord[2] - atom2_coord[2]\n",
    "    bond_length_12 = numpy.sqrt(x_distance ** 2 + y_distance ** 2 + z_distance ** 2)\n",
    "    return bond_length_12\n",
    "\n",
    "def bond_check(atom_distance, minimum_length=0, maximum_length=1.5):\n",
    "    \"\"\"Check if a distance is a bond based on a minimum and maximum bond length\"\"\"\n",
    "\n",
    "    if atom_distance > minimum_length and atom_distance <= maximum_length:\n",
    "        return True\n",
    "    else:\n",
    "        return False\n",
    "\n",
    "def open_xyz(filename):\n",
    "     \"\"\"\n",
    "     Open and read an xyz file. Returns tuple of symbols and coordinates.\n",
    "     \"\"\"\n",
    "     xyz_file = numpy.genfromtxt(fname=filename, skip_header=2, dtype='unicode')\n",
    "     symbols = xyz_file[:,0]\n",
    "     coord = (xyz_file[:,1:])\n",
    "     coord = coord.astype(float)\n",
    "     return symbols, coord\n",
    "\n",
    "def print_bonds(atom_symbols, atom_coordinates):\n",
    "    \"\"\"\n",
    "    Prints atom symbols and bond length for a set of atoms.\n",
    "    \"\"\"\n",
    "    num_atoms = len(atom_symbols)\n",
    "    for num1 in range(0, num_atoms):\n",
    "        for num2 in range(0, num_atoms):\n",
    "            if num1 < num2:\n",
    "                bond_length_12 = calculate_distance(atom_coordinates[num1], atom_coordinates[num2])\n",
    "                if bond_check(bond_length_12) is True:\n",
    "                    print(F'{atom_symbols[num1]} to {atom_symbols[num2]} : {bond_length_12:.3f}')"
   ]
  },
  {
   "cell_type": "markdown",
   "id": "6e94ac30",
   "metadata": {},
   "source": [
    "We can now open an arbitrary xyz file and print the bonded atoms. For example, to do this for water and benzene, we could execute a cell like this:"
   ]
  },
  {
   "cell_type": "code",
   "execution_count": 20,
   "id": "890f3985",
   "metadata": {},
   "outputs": [
    {
     "name": "stdout",
     "output_type": "stream",
     "text": [
      "Printing bonds for water.\n",
      "O to H1 : 0.969\n",
      "O to H2 : 0.969\n",
      "Printing bonds for benzene.\n",
      "C to H : 1.088\n",
      "C to C : 1.403\n",
      "C to C : 1.403\n",
      "C to H : 1.088\n",
      "C to C : 1.403\n",
      "C to H : 1.088\n",
      "C to C : 1.403\n",
      "C to H : 1.088\n",
      "C to C : 1.403\n",
      "C to H : 1.088\n",
      "C to C : 1.403\n",
      "C to H : 1.088\n"
     ]
    }
   ],
   "source": [
    "water_file_location = os.path.join('data', 'water.xyz')\n",
    "water_symbols, water_coords = open_xyz(water_file_location)\n",
    "\n",
    "benzene_file_location = os.path.join('data', 'benzene.xyz')\n",
    "benzene_symbols, benzene_coords = open_xyz(benzene_file_location)\n",
    "\n",
    "print(F'Printing bonds for water.')\n",
    "print_bonds(water_symbols, water_coords)\n",
    "\n",
    "print(F'Printing bonds for benzene.')\n",
    "print_bonds(benzene_symbols, benzene_coords)"
   ]
  },
  {
   "cell_type": "markdown",
   "id": "41ad0c40",
   "metadata": {},
   "source": [
    "## Exercise"
   ]
  },
  {
   "cell_type": "markdown",
   "id": "28fd364c",
   "metadata": {},
   "source": [
    "In earlier lessons, we used glob to process multiple files. How could you use glob to print bonds for all the xyz files?"
   ]
  },
  {
   "cell_type": "code",
   "execution_count": 28,
   "id": "f8359a5e",
   "metadata": {},
   "outputs": [
    {
     "name": "stdout",
     "output_type": "stream",
     "text": [
      "Printing bonds for data/benzene.xyz.\n",
      "C to H : 1.088\n",
      "C to C : 1.403\n",
      "C to C : 1.403\n",
      "C to H : 1.088\n",
      "C to C : 1.403\n",
      "C to H : 1.088\n",
      "C to C : 1.403\n",
      "C to H : 1.088\n",
      "C to C : 1.403\n",
      "C to H : 1.088\n",
      "C to C : 1.403\n",
      "C to H : 1.088\n",
      "Printing bonds for data/buckminsterfullerene.xyz.\n",
      "C to C : 1.453\n",
      "C to C : 1.453\n",
      "C to C : 1.395\n",
      "C to C : 1.453\n",
      "C to C : 1.395\n",
      "C to C : 1.453\n",
      "C to C : 1.395\n",
      "C to C : 1.453\n",
      "C to C : 1.395\n",
      "C to C : 1.395\n",
      "C to C : 1.453\n",
      "C to C : 1.453\n",
      "C to C : 1.395\n",
      "C to C : 1.453\n",
      "C to C : 1.453\n",
      "C to C : 1.453\n",
      "C to C : 1.453\n",
      "C to C : 1.395\n",
      "C to C : 1.453\n",
      "C to C : 1.453\n",
      "C to C : 1.453\n",
      "C to C : 1.453\n",
      "C to C : 1.395\n",
      "C to C : 1.453\n",
      "C to C : 1.453\n",
      "C to C : 1.453\n",
      "C to C : 1.453\n",
      "C to C : 1.453\n",
      "C to C : 1.395\n",
      "C to C : 1.453\n",
      "C to C : 1.395\n",
      "C to C : 1.395\n",
      "C to C : 1.453\n",
      "C to C : 1.453\n",
      "C to C : 1.395\n",
      "C to C : 1.453\n",
      "C to C : 1.453\n",
      "C to C : 1.395\n",
      "C to C : 1.453\n",
      "C to C : 1.453\n",
      "C to C : 1.395\n",
      "C to C : 1.453\n",
      "C to C : 1.453\n",
      "C to C : 1.395\n",
      "C to C : 1.453\n",
      "C to C : 1.453\n",
      "C to C : 1.395\n",
      "C to C : 1.453\n",
      "C to C : 1.453\n",
      "C to C : 1.395\n",
      "C to C : 1.453\n",
      "C to C : 1.453\n",
      "C to C : 1.453\n",
      "C to C : 1.395\n",
      "C to C : 1.453\n",
      "C to C : 1.453\n",
      "C to C : 1.453\n",
      "C to C : 1.395\n",
      "C to C : 1.395\n",
      "C to C : 1.453\n",
      "C to C : 1.453\n",
      "C to C : 1.395\n",
      "C to C : 1.395\n",
      "C to C : 1.453\n",
      "C to C : 1.453\n",
      "C to C : 1.395\n",
      "C to C : 1.395\n",
      "C to C : 1.453\n",
      "C to C : 1.453\n",
      "C to C : 1.453\n",
      "C to C : 1.453\n",
      "C to C : 1.395\n",
      "C to C : 1.453\n",
      "C to C : 1.395\n",
      "C to C : 1.395\n",
      "C to C : 1.453\n",
      "C to C : 1.453\n",
      "C to C : 1.453\n",
      "C to C : 1.453\n",
      "C to C : 1.453\n",
      "C to C : 1.395\n",
      "C to C : 1.453\n",
      "C to C : 1.453\n",
      "C to C : 1.395\n",
      "C to C : 1.453\n",
      "C to C : 1.453\n",
      "C to C : 1.453\n",
      "C to C : 1.453\n",
      "C to C : 1.453\n",
      "C to C : 1.395\n",
      "Printing bonds for data/water.xyz.\n",
      "O to H1 : 0.969\n",
      "O to H2 : 0.969\n"
     ]
    }
   ],
   "source": [
    "import numpy\n",
    "import os\n",
    "import glob\n",
    "\n",
    "file_location = os.path.join('data/*.xyz')\n",
    "xyz_files=glob.glob(file_location)\n",
    "\n",
    "for xyz_file in xyz_files:\n",
    "    symbols,coords=open_xyz(xyz_file)\n",
    "    print(f'Printing bonds for {xyz_file}.')\n",
    "    print_bonds(symbols, coords)   \n"
   ]
  },
  {
   "cell_type": "code",
   "execution_count": null,
   "id": "00cad239",
   "metadata": {},
   "outputs": [],
   "source": []
  }
 ],
 "metadata": {
  "kernelspec": {
   "display_name": "Python 3 (ipykernel)",
   "language": "python",
   "name": "python3"
  },
  "language_info": {
   "codemirror_mode": {
    "name": "ipython",
    "version": 3
   },
   "file_extension": ".py",
   "mimetype": "text/x-python",
   "name": "python",
   "nbconvert_exporter": "python",
   "pygments_lexer": "ipython3",
   "version": "3.11.5"
  }
 },
 "nbformat": 4,
 "nbformat_minor": 5
}
