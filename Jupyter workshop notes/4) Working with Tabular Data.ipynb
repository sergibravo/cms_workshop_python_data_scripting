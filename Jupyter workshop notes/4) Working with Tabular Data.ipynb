{
 "cells": [
  {
   "cell_type": "markdown",
   "id": "599388d3",
   "metadata": {},
   "source": [
    "# 4) Working with Tabular Data"
   ]
  },
  {
   "cell_type": "markdown",
   "id": "5072879c",
   "metadata": {},
   "source": [
    "## Reading in Tabular Data\n"
   ]
  },
  {
   "cell_type": "code",
   "execution_count": 4,
   "id": "ef9b036a",
   "metadata": {},
   "outputs": [
    {
     "name": "stdout",
     "output_type": "stream",
     "text": [
      "Help on function genfromtxt in module numpy:\n",
      "\n",
      "genfromtxt(fname, dtype=<class 'float'>, comments='#', delimiter=None, skip_header=0, skip_footer=0, converters=None, missing_values=None, filling_values=None, usecols=None, names=None, excludelist=None, deletechars=\" !#$%&'()*+,-./:;<=>?@[\\\\]^{|}~\", replace_space='_', autostrip=False, case_sensitive=True, defaultfmt='f%i', unpack=None, usemask=False, loose=True, invalid_raise=True, max_rows=None, encoding='bytes', *, ndmin=0, like=None)\n",
      "    Load data from a text file, with missing values handled as specified.\n",
      "    \n",
      "    Each line past the first `skip_header` lines is split at the `delimiter`\n",
      "    character, and characters following the `comments` character are discarded.\n",
      "    \n",
      "    Parameters\n",
      "    ----------\n",
      "    fname : file, str, pathlib.Path, list of str, generator\n",
      "        File, filename, list, or generator to read.  If the filename\n",
      "        extension is ``.gz`` or ``.bz2``, the file is first decompressed. Note\n",
      "        that generators must return bytes or strings. The strings\n",
      "        in a list or produced by a generator are treated as lines.\n",
      "    dtype : dtype, optional\n",
      "        Data type of the resulting array.\n",
      "        If None, the dtypes will be determined by the contents of each\n",
      "        column, individually.\n",
      "    comments : str, optional\n",
      "        The character used to indicate the start of a comment.\n",
      "        All the characters occurring on a line after a comment are discarded.\n",
      "    delimiter : str, int, or sequence, optional\n",
      "        The string used to separate values.  By default, any consecutive\n",
      "        whitespaces act as delimiter.  An integer or sequence of integers\n",
      "        can also be provided as width(s) of each field.\n",
      "    skiprows : int, optional\n",
      "        `skiprows` was removed in numpy 1.10. Please use `skip_header` instead.\n",
      "    skip_header : int, optional\n",
      "        The number of lines to skip at the beginning of the file.\n",
      "    skip_footer : int, optional\n",
      "        The number of lines to skip at the end of the file.\n",
      "    converters : variable, optional\n",
      "        The set of functions that convert the data of a column to a value.\n",
      "        The converters can also be used to provide a default value\n",
      "        for missing data: ``converters = {3: lambda s: float(s or 0)}``.\n",
      "    missing : variable, optional\n",
      "        `missing` was removed in numpy 1.10. Please use `missing_values`\n",
      "        instead.\n",
      "    missing_values : variable, optional\n",
      "        The set of strings corresponding to missing data.\n",
      "    filling_values : variable, optional\n",
      "        The set of values to be used as default when the data are missing.\n",
      "    usecols : sequence, optional\n",
      "        Which columns to read, with 0 being the first.  For example,\n",
      "        ``usecols = (1, 4, 5)`` will extract the 2nd, 5th and 6th columns.\n",
      "    names : {None, True, str, sequence}, optional\n",
      "        If `names` is True, the field names are read from the first line after\n",
      "        the first `skip_header` lines. This line can optionally be preceded\n",
      "        by a comment delimiter. If `names` is a sequence or a single-string of\n",
      "        comma-separated names, the names will be used to define the field names\n",
      "        in a structured dtype. If `names` is None, the names of the dtype\n",
      "        fields will be used, if any.\n",
      "    excludelist : sequence, optional\n",
      "        A list of names to exclude. This list is appended to the default list\n",
      "        ['return','file','print']. Excluded names are appended with an\n",
      "        underscore: for example, `file` would become `file_`.\n",
      "    deletechars : str, optional\n",
      "        A string combining invalid characters that must be deleted from the\n",
      "        names.\n",
      "    defaultfmt : str, optional\n",
      "        A format used to define default field names, such as \"f%i\" or \"f_%02i\".\n",
      "    autostrip : bool, optional\n",
      "        Whether to automatically strip white spaces from the variables.\n",
      "    replace_space : char, optional\n",
      "        Character(s) used in replacement of white spaces in the variable\n",
      "        names. By default, use a '_'.\n",
      "    case_sensitive : {True, False, 'upper', 'lower'}, optional\n",
      "        If True, field names are case sensitive.\n",
      "        If False or 'upper', field names are converted to upper case.\n",
      "        If 'lower', field names are converted to lower case.\n",
      "    unpack : bool, optional\n",
      "        If True, the returned array is transposed, so that arguments may be\n",
      "        unpacked using ``x, y, z = genfromtxt(...)``.  When used with a\n",
      "        structured data-type, arrays are returned for each field.\n",
      "        Default is False.\n",
      "    usemask : bool, optional\n",
      "        If True, return a masked array.\n",
      "        If False, return a regular array.\n",
      "    loose : bool, optional\n",
      "        If True, do not raise errors for invalid values.\n",
      "    invalid_raise : bool, optional\n",
      "        If True, an exception is raised if an inconsistency is detected in the\n",
      "        number of columns.\n",
      "        If False, a warning is emitted and the offending lines are skipped.\n",
      "    max_rows : int,  optional\n",
      "        The maximum number of rows to read. Must not be used with skip_footer\n",
      "        at the same time.  If given, the value must be at least 1. Default is\n",
      "        to read the entire file.\n",
      "    \n",
      "        .. versionadded:: 1.10.0\n",
      "    encoding : str, optional\n",
      "        Encoding used to decode the inputfile. Does not apply when `fname` is\n",
      "        a file object.  The special value 'bytes' enables backward compatibility\n",
      "        workarounds that ensure that you receive byte arrays when possible\n",
      "        and passes latin1 encoded strings to converters. Override this value to\n",
      "        receive unicode arrays and pass strings as input to converters.  If set\n",
      "        to None the system default is used. The default value is 'bytes'.\n",
      "    \n",
      "        .. versionadded:: 1.14.0\n",
      "    ndmin : int, optional\n",
      "        Same parameter as `loadtxt`\n",
      "    \n",
      "        .. versionadded:: 1.23.0\n",
      "    like : array_like, optional\n",
      "        Reference object to allow the creation of arrays which are not\n",
      "        NumPy arrays. If an array-like passed in as ``like`` supports\n",
      "        the ``__array_function__`` protocol, the result will be defined\n",
      "        by it. In this case, it ensures the creation of an array object\n",
      "        compatible with that passed in via this argument.\n",
      "    \n",
      "        .. versionadded:: 1.20.0\n",
      "    \n",
      "    Returns\n",
      "    -------\n",
      "    out : ndarray\n",
      "        Data read from the text file. If `usemask` is True, this is a\n",
      "        masked array.\n",
      "    \n",
      "    See Also\n",
      "    --------\n",
      "    numpy.loadtxt : equivalent function when no data is missing.\n",
      "    \n",
      "    Notes\n",
      "    -----\n",
      "    * When spaces are used as delimiters, or when no delimiter has been given\n",
      "      as input, there should not be any missing data between two fields.\n",
      "    * When the variables are named (either by a flexible dtype or with `names`),\n",
      "      there must not be any header in the file (else a ValueError\n",
      "      exception is raised).\n",
      "    * Individual values are not stripped of spaces by default.\n",
      "      When using a custom converter, make sure the function does remove spaces.\n",
      "    \n",
      "    References\n",
      "    ----------\n",
      "    .. [1] NumPy User Guide, section `I/O with NumPy\n",
      "           <https://docs.scipy.org/doc/numpy/user/basics.io.genfromtxt.html>`_.\n",
      "    \n",
      "    Examples\n",
      "    --------\n",
      "    >>> from io import StringIO\n",
      "    >>> import numpy as np\n",
      "    \n",
      "    Comma delimited file with mixed dtype\n",
      "    \n",
      "    >>> s = StringIO(u\"1,1.3,abcde\")\n",
      "    >>> data = np.genfromtxt(s, dtype=[('myint','i8'),('myfloat','f8'),\n",
      "    ... ('mystring','S5')], delimiter=\",\")\n",
      "    >>> data\n",
      "    array((1, 1.3, b'abcde'),\n",
      "          dtype=[('myint', '<i8'), ('myfloat', '<f8'), ('mystring', 'S5')])\n",
      "    \n",
      "    Using dtype = None\n",
      "    \n",
      "    >>> _ = s.seek(0) # needed for StringIO example only\n",
      "    >>> data = np.genfromtxt(s, dtype=None,\n",
      "    ... names = ['myint','myfloat','mystring'], delimiter=\",\")\n",
      "    >>> data\n",
      "    array((1, 1.3, b'abcde'),\n",
      "          dtype=[('myint', '<i8'), ('myfloat', '<f8'), ('mystring', 'S5')])\n",
      "    \n",
      "    Specifying dtype and names\n",
      "    \n",
      "    >>> _ = s.seek(0)\n",
      "    >>> data = np.genfromtxt(s, dtype=\"i8,f8,S5\",\n",
      "    ... names=['myint','myfloat','mystring'], delimiter=\",\")\n",
      "    >>> data\n",
      "    array((1, 1.3, b'abcde'),\n",
      "          dtype=[('myint', '<i8'), ('myfloat', '<f8'), ('mystring', 'S5')])\n",
      "    \n",
      "    An example with fixed-width columns\n",
      "    \n",
      "    >>> s = StringIO(u\"11.3abcde\")\n",
      "    >>> data = np.genfromtxt(s, dtype=None, names=['intvar','fltvar','strvar'],\n",
      "    ...     delimiter=[1,3,5])\n",
      "    >>> data\n",
      "    array((1, 1.3, b'abcde'),\n",
      "          dtype=[('intvar', '<i8'), ('fltvar', '<f8'), ('strvar', 'S5')])\n",
      "    \n",
      "    An example to show comments\n",
      "    \n",
      "    >>> f = StringIO('''\n",
      "    ... text,# of chars\n",
      "    ... hello world,11\n",
      "    ... numpy,5''')\n",
      "    >>> np.genfromtxt(f, dtype='S12,S12', delimiter=',')\n",
      "    array([(b'text', b''), (b'hello world', b'11'), (b'numpy', b'5')],\n",
      "      dtype=[('f0', 'S12'), ('f1', 'S12')])\n",
      "\n"
     ]
    }
   ],
   "source": [
    "import numpy\n",
    "help(numpy.genfromtxt)"
   ]
  },
  {
   "cell_type": "code",
   "execution_count": 5,
   "id": "70d51bdc",
   "metadata": {},
   "outputs": [
    {
     "name": "stdout",
     "output_type": "stream",
     "text": [
      "[['Frame' 'THR4_ATP' 'THR4_ASP' 'TYR6_ATP' 'TYR6_ASP']\n",
      " ['1' '8.9542' '5.8024' '11.5478' '9.9557']\n",
      " ['2' '8.6181' '6.0942' '13.9594' '11.6945']\n",
      " ...\n",
      " ['9998' '8.6625' '7.7306' '9.5469' '10.3063']\n",
      " ['9999' '9.2456' '7.8886' '9.8151' '10.7564']\n",
      " ['10000' '8.8135' '7.917' '9.9517' '10.7848']]\n"
     ]
    }
   ],
   "source": [
    "import os\n",
    "\n",
    "distance_file = os.path.join('data', 'distance_data_headers.csv')\n",
    "\n",
    "distances = numpy.genfromtxt(fname=distance_file, delimiter=',', dtype='unicode')\n",
    "print(distances)"
   ]
  },
  {
   "cell_type": "markdown",
   "id": "fb59906b",
   "metadata": {},
   "source": [
    "Doing the same but using pandas instead of numpy"
   ]
  },
  {
   "cell_type": "code",
   "execution_count": 6,
   "id": "2cead10c",
   "metadata": {},
   "outputs": [
    {
     "data": {
      "text/html": [
       "<div>\n",
       "<style scoped>\n",
       "    .dataframe tbody tr th:only-of-type {\n",
       "        vertical-align: middle;\n",
       "    }\n",
       "\n",
       "    .dataframe tbody tr th {\n",
       "        vertical-align: top;\n",
       "    }\n",
       "\n",
       "    .dataframe thead th {\n",
       "        text-align: right;\n",
       "    }\n",
       "</style>\n",
       "<table border=\"1\" class=\"dataframe\">\n",
       "  <thead>\n",
       "    <tr style=\"text-align: right;\">\n",
       "      <th></th>\n",
       "      <th>Frame</th>\n",
       "      <th>THR4_ATP</th>\n",
       "      <th>THR4_ASP</th>\n",
       "      <th>TYR6_ATP</th>\n",
       "      <th>TYR6_ASP</th>\n",
       "    </tr>\n",
       "  </thead>\n",
       "  <tbody>\n",
       "    <tr>\n",
       "      <th>0</th>\n",
       "      <td>1</td>\n",
       "      <td>8.9542</td>\n",
       "      <td>5.8024</td>\n",
       "      <td>11.5478</td>\n",
       "      <td>9.9557</td>\n",
       "    </tr>\n",
       "    <tr>\n",
       "      <th>1</th>\n",
       "      <td>2</td>\n",
       "      <td>8.6181</td>\n",
       "      <td>6.0942</td>\n",
       "      <td>13.9594</td>\n",
       "      <td>11.6945</td>\n",
       "    </tr>\n",
       "    <tr>\n",
       "      <th>2</th>\n",
       "      <td>3</td>\n",
       "      <td>9.0066</td>\n",
       "      <td>6.0637</td>\n",
       "      <td>13.0924</td>\n",
       "      <td>11.3043</td>\n",
       "    </tr>\n",
       "    <tr>\n",
       "      <th>3</th>\n",
       "      <td>4</td>\n",
       "      <td>9.2002</td>\n",
       "      <td>6.0227</td>\n",
       "      <td>14.5282</td>\n",
       "      <td>10.1763</td>\n",
       "    </tr>\n",
       "    <tr>\n",
       "      <th>4</th>\n",
       "      <td>5</td>\n",
       "      <td>9.1294</td>\n",
       "      <td>5.9365</td>\n",
       "      <td>13.5321</td>\n",
       "      <td>10.6279</td>\n",
       "    </tr>\n",
       "    <tr>\n",
       "      <th>...</th>\n",
       "      <td>...</td>\n",
       "      <td>...</td>\n",
       "      <td>...</td>\n",
       "      <td>...</td>\n",
       "      <td>...</td>\n",
       "    </tr>\n",
       "    <tr>\n",
       "      <th>9995</th>\n",
       "      <td>9996</td>\n",
       "      <td>8.5083</td>\n",
       "      <td>7.7587</td>\n",
       "      <td>9.1789</td>\n",
       "      <td>10.6715</td>\n",
       "    </tr>\n",
       "    <tr>\n",
       "      <th>9996</th>\n",
       "      <td>9997</td>\n",
       "      <td>8.9524</td>\n",
       "      <td>7.4681</td>\n",
       "      <td>9.5132</td>\n",
       "      <td>10.9945</td>\n",
       "    </tr>\n",
       "    <tr>\n",
       "      <th>9997</th>\n",
       "      <td>9998</td>\n",
       "      <td>8.6625</td>\n",
       "      <td>7.7306</td>\n",
       "      <td>9.5469</td>\n",
       "      <td>10.3063</td>\n",
       "    </tr>\n",
       "    <tr>\n",
       "      <th>9998</th>\n",
       "      <td>9999</td>\n",
       "      <td>9.2456</td>\n",
       "      <td>7.8886</td>\n",
       "      <td>9.8151</td>\n",
       "      <td>10.7564</td>\n",
       "    </tr>\n",
       "    <tr>\n",
       "      <th>9999</th>\n",
       "      <td>10000</td>\n",
       "      <td>8.8135</td>\n",
       "      <td>7.9170</td>\n",
       "      <td>9.9517</td>\n",
       "      <td>10.7848</td>\n",
       "    </tr>\n",
       "  </tbody>\n",
       "</table>\n",
       "<p>10000 rows × 5 columns</p>\n",
       "</div>"
      ],
      "text/plain": [
       "      Frame  THR4_ATP  THR4_ASP  TYR6_ATP  TYR6_ASP\n",
       "0         1    8.9542    5.8024   11.5478    9.9557\n",
       "1         2    8.6181    6.0942   13.9594   11.6945\n",
       "2         3    9.0066    6.0637   13.0924   11.3043\n",
       "3         4    9.2002    6.0227   14.5282   10.1763\n",
       "4         5    9.1294    5.9365   13.5321   10.6279\n",
       "...     ...       ...       ...       ...       ...\n",
       "9995   9996    8.5083    7.7587    9.1789   10.6715\n",
       "9996   9997    8.9524    7.4681    9.5132   10.9945\n",
       "9997   9998    8.6625    7.7306    9.5469   10.3063\n",
       "9998   9999    9.2456    7.8886    9.8151   10.7564\n",
       "9999  10000    8.8135    7.9170    9.9517   10.7848\n",
       "\n",
       "[10000 rows x 5 columns]"
      ]
     },
     "execution_count": 6,
     "metadata": {},
     "output_type": "execute_result"
    }
   ],
   "source": [
    "import pandas as pd\n",
    "distances_pd=pd.read_csv(distance_file)\n",
    "distances_pd"
   ]
  },
  {
   "cell_type": "markdown",
   "id": "22272242",
   "metadata": {},
   "source": [
    "## Manipulating Tabular Data"
   ]
  },
  {
   "cell_type": "code",
   "execution_count": 8,
   "id": "354e8e44",
   "metadata": {},
   "outputs": [
    {
     "name": "stdout",
     "output_type": "stream",
     "text": [
      "['Frame' 'THR4_ATP' 'THR4_ASP' 'TYR6_ATP' 'TYR6_ASP']\n"
     ]
    }
   ],
   "source": [
    "headers = distances[0]\n",
    "print(headers)"
   ]
  },
  {
   "cell_type": "markdown",
   "id": "6b8f8b15",
   "metadata": {},
   "source": [
    "Take a slice of the data that is just the numerical values. To be uniform for later activities, call this slice data."
   ]
  },
  {
   "cell_type": "code",
   "execution_count": 9,
   "id": "f2675ef3",
   "metadata": {},
   "outputs": [
    {
     "name": "stdout",
     "output_type": "stream",
     "text": [
      "[['1' '8.9542' '5.8024' '11.5478' '9.9557']\n",
      " ['2' '8.6181' '6.0942' '13.9594' '11.6945']\n",
      " ['3' '9.0066' '6.0637' '13.0924' '11.3043']\n",
      " ...\n",
      " ['9998' '8.6625' '7.7306' '9.5469' '10.3063']\n",
      " ['9999' '9.2456' '7.8886' '9.8151' '10.7564']\n",
      " ['10000' '8.8135' '7.917' '9.9517' '10.7848']]\n"
     ]
    }
   ],
   "source": [
    "data=distances[1:]\n",
    "print(data)"
   ]
  },
  {
   "cell_type": "code",
   "execution_count": 10,
   "id": "237a1aea",
   "metadata": {},
   "outputs": [
    {
     "name": "stdout",
     "output_type": "stream",
     "text": [
      "[[1.00000e+00 8.95420e+00 5.80240e+00 1.15478e+01 9.95570e+00]\n",
      " [2.00000e+00 8.61810e+00 6.09420e+00 1.39594e+01 1.16945e+01]\n",
      " [3.00000e+00 9.00660e+00 6.06370e+00 1.30924e+01 1.13043e+01]\n",
      " ...\n",
      " [9.99800e+03 8.66250e+00 7.73060e+00 9.54690e+00 1.03063e+01]\n",
      " [9.99900e+03 9.24560e+00 7.88860e+00 9.81510e+00 1.07564e+01]\n",
      " [1.00000e+04 8.81350e+00 7.91700e+00 9.95170e+00 1.07848e+01]]\n"
     ]
    }
   ],
   "source": [
    "data = data.astype(float)\n",
    "print(data)"
   ]
  },
  {
   "cell_type": "code",
   "execution_count": 11,
   "id": "d55e708f",
   "metadata": {},
   "outputs": [
    {
     "name": "stdout",
     "output_type": "stream",
     "text": [
      "8.9542\n",
      "2.0\n"
     ]
    }
   ],
   "source": [
    "print(data[0,1])\n",
    "print(data[1,0])"
   ]
  },
  {
   "cell_type": "code",
   "execution_count": 12,
   "id": "fb084769",
   "metadata": {},
   "outputs": [
    {
     "name": "stdout",
     "output_type": "stream",
     "text": [
      "[[ 1.      8.9542  5.8024]\n",
      " [ 2.      8.6181  6.0942]\n",
      " [ 3.      9.0066  6.0637]\n",
      " [ 4.      9.2002  6.0227]\n",
      " [ 5.      9.1294  5.9365]\n",
      " [ 6.      9.0462  6.2553]\n",
      " [ 7.      8.8657  5.9186]\n",
      " [ 8.      9.3256  6.2351]\n",
      " [ 9.      9.4184  6.1993]\n",
      " [10.      9.06    6.0478]]\n",
      "only 6th row\n",
      "[6.     9.0462 6.2553]\n",
      "columns without indexes\n",
      "[[8.9542 5.8024]\n",
      " [8.6181 6.0942]\n",
      " [9.0066 6.0637]\n",
      " [9.2002 6.0227]\n",
      " [9.1294 5.9365]\n",
      " [9.0462 6.2553]\n",
      " [8.8657 5.9186]\n",
      " [9.3256 6.2351]\n",
      " [9.4184 6.1993]\n",
      " [9.06   6.0478]]\n"
     ]
    }
   ],
   "source": [
    "small_data=(data[0:10,0:3])\n",
    "print(small_data)\n",
    "print('only 6th row')\n",
    "print(small_data[5,:])\n",
    "print('columns without indexes')\n",
    "print(small_data[:,1:])"
   ]
  },
  {
   "cell_type": "markdown",
   "id": "6da6d99a",
   "metadata": {},
   "source": [
    "## Analyzing Tabular Data\n"
   ]
  },
  {
   "cell_type": "code",
   "execution_count": 13,
   "id": "b24b74a3",
   "metadata": {},
   "outputs": [
    {
     "name": "stdout",
     "output_type": "stream",
     "text": [
      "1008.184506144\n"
     ]
    }
   ],
   "source": [
    "data_average=numpy.mean(data)\n",
    "print(data_average)"
   ]
  },
  {
   "cell_type": "code",
   "execution_count": 14,
   "id": "cb7284a4",
   "metadata": {},
   "outputs": [
    {
     "name": "stdout",
     "output_type": "stream",
     "text": [
      "10.876950930000001\n"
     ]
    }
   ],
   "source": [
    "thr4_atp = data[:,1]  # Every row, just the THR4_ATP column\n",
    "avg_thr4_atp = numpy.mean(thr4_atp)\n",
    "print(avg_thr4_atp)"
   ]
  },
  {
   "cell_type": "markdown",
   "id": "078d9a41",
   "metadata": {},
   "source": [
    "Determine the number of columns in our data set. Save this value as a variable called num_columns.\n",
    "\n"
   ]
  },
  {
   "cell_type": "code",
   "execution_count": 28,
   "id": "756819e1",
   "metadata": {},
   "outputs": [
    {
     "name": "stdout",
     "output_type": "stream",
     "text": [
      "5\n"
     ]
    }
   ],
   "source": [
    "num_columns=len(data[0,:])\n",
    "print(num_columns)"
   ]
  },
  {
   "cell_type": "code",
   "execution_count": 30,
   "id": "2a085cd2",
   "metadata": {},
   "outputs": [
    {
     "name": "stdout",
     "output_type": "stream",
     "text": [
      "THR4_ATP: 10.876950930000001\n",
      "THR4_ASP: 7.342344959999999\n",
      "TYR6_ATP: 11.209791329999998\n",
      "TYR6_ASP: 10.9934435\n"
     ]
    }
   ],
   "source": [
    "num_columns=len(data[0,:])\n",
    "\n",
    "for i in range(1,num_columns):\n",
    "    column=data[:,i]\n",
    "    avg_column=numpy.mean(column)\n",
    "    print(F'{headers[i]}: {avg_column}')"
   ]
  },
  {
   "cell_type": "markdown",
   "id": "4a0cb282",
   "metadata": {},
   "source": [
    "### Geometry Analysis Project\n"
   ]
  },
  {
   "cell_type": "code",
   "execution_count": 256,
   "id": "070ec61e",
   "metadata": {},
   "outputs": [
    {
     "name": "stdout",
     "output_type": "stream",
     "text": [
      "O to O: 0.0\n",
      "O to H1: 0.9690005374652793\n",
      "O to H2: 0.9690003348647513\n",
      "H1 to O: 0.9690005374652793\n",
      "H1 to H1: 0.0\n",
      "H1 to H2: 1.52693633514957\n",
      "H2 to O: 0.9690003348647513\n",
      "H2 to H1: 1.52693633514957\n",
      "H2 to H2: 0.0\n"
     ]
    }
   ],
   "source": [
    "import os\n",
    "import numpy as np\n",
    "\n",
    "#Opening a file\n",
    "file_location=os.path.join('data', 'water.xyz')\n",
    "dataset=numpy.genfromtxt(fname=file_location, dtype='unicode',skip_header=2)\n",
    "\n",
    "#Separating index from values\n",
    "headers=dataset[:,0]\n",
    "data=dataset[:,1:].astype(float)\n",
    "\n",
    "#determining range of loops\n",
    "num_atoms=len(headers)\n",
    "num_columns=len(data[0,:])\n",
    "\n",
    "#Iterating to repeat the calculation, first we select a row. Once inside the row, we do the same for every column.\n",
    "#Notice how we substract entire rows, because we know that row1-row0= (x1-x0)+(y1-y0)+(z1-z0). By **2, we apply it to each and then we apply sqrt to all.\n",
    "\n",
    "\n",
    "for row in range(num_atoms):\n",
    "    atom_start=headers[row]\n",
    "    for column in range(num_columns):\n",
    "        atom_final=headers[column]\n",
    "        distance=np.sqrt(np.sum((data[column]-data[row])**2))\n",
    "        print(F'{atom_start} to {atom_final}: {distance}')\n",
    "       \n"
   ]
  },
  {
   "cell_type": "markdown",
   "id": "5e1a9338",
   "metadata": {},
   "source": [
    "#### Solution of exercise:"
   ]
  },
  {
   "cell_type": "code",
   "execution_count": 253,
   "id": "6898e033",
   "metadata": {},
   "outputs": [
    {
     "name": "stdout",
     "output_type": "stream",
     "text": [
      "O to O : 0.000\n",
      "O to H1 : 0.969\n",
      "O to H2 : 0.969\n",
      "H1 to O : 0.969\n",
      "H1 to H1 : 0.000\n",
      "H1 to H2 : 1.527\n",
      "H2 to O : 0.969\n",
      "H2 to H1 : 1.527\n",
      "H2 to H2 : 0.000\n"
     ]
    }
   ],
   "source": [
    "import numpy\n",
    "import os\n",
    "\n",
    "file_location = os.path.join('data', 'water.xyz')\n",
    "xyz_file = numpy.genfromtxt(fname=file_location, skip_header=2,  dtype='unicode')\n",
    "\n",
    "symbols = xyz_file[:,0]\n",
    "coordinates = (xyz_file[:,1:])\n",
    "coordinates = coordinates.astype(float)\n",
    "\n",
    "num_atoms = len(symbols)\n",
    "\n",
    "\n",
    "for num1 in range(0,num_atoms):\n",
    "    for num2 in range(0,num_atoms):\n",
    "        x_distance = coordinates[num1,0] - coordinates[num2,0]\n",
    "        y_distance = coordinates[num1,1] - coordinates[num2,1]\n",
    "        z_distance = coordinates[num1,2] - coordinates[num2,2]\n",
    "        bond_length_12 = numpy.sqrt(x_distance**2+y_distance**2+z_distance**2)\n",
    "        print(F'{symbols[num1]} to {symbols[num2]} : {bond_length_12:.3f}')  "
   ]
  },
  {
   "cell_type": "markdown",
   "id": "13136ac0",
   "metadata": {},
   "source": [
    "### My answer with changes from solution:"
   ]
  },
  {
   "cell_type": "code",
   "execution_count": 265,
   "id": "8314b2e9",
   "metadata": {},
   "outputs": [
    {
     "name": "stdout",
     "output_type": "stream",
     "text": [
      "O to O: 0.000\n",
      "O to H1: 0.969\n",
      "O to H2: 0.969\n",
      "H1 to O: 0.969\n",
      "H1 to H1: 0.000\n",
      "H1 to H2: 1.527\n",
      "H2 to O: 0.969\n",
      "H2 to H1: 1.527\n",
      "H2 to H2: 0.000\n"
     ]
    }
   ],
   "source": [
    "import os\n",
    "import numpy as np\n",
    "\n",
    "#Opening a file\n",
    "file_location=os.path.join('data', 'water.xyz')\n",
    "dataset=numpy.genfromtxt(fname=file_location, dtype='unicode',skip_header=2)\n",
    "\n",
    "#Separating index from values\n",
    "headers=dataset[:,0]\n",
    "data=dataset[:,1:].astype(float)\n",
    "\n",
    "#determining range of loops\n",
    "num_atoms=len(headers)\n",
    "\n",
    "#Iterating to repeat the calculation, first we select a row (ex: Oxygen). Inside every row, we substract \n",
    "\n",
    "\n",
    "for row in range(num_atoms):\n",
    "    for column in range(num_atoms):\n",
    "        x_distance = data[row,0] - data[column,0]\n",
    "        y_distance = data[row,1] - data[column,1]\n",
    "        z_distance = data[row,2] - data[column,2]\n",
    "        \n",
    "        distance=np.sqrt(x_distance**2+y_distance**2+z_distance**2)\n",
    "        print(F'{headers[row]} to {headers[column]}: {distance:.3f}')\n",
    "    "
   ]
  },
  {
   "cell_type": "markdown",
   "id": "9c5b4dbe",
   "metadata": {},
   "source": [
    "### Project Extension 1, 2 and 3\n"
   ]
  },
  {
   "cell_type": "code",
   "execution_count": 289,
   "id": "1fa30504",
   "metadata": {},
   "outputs": [],
   "source": [
    "import os\n",
    "import numpy as np\n",
    "\n",
    "#Opening a file\n",
    "file_location=os.path.join('data', 'water.xyz')\n",
    "dataset=numpy.genfromtxt(fname=file_location, dtype='unicode',skip_header=2)\n",
    "\n",
    "#Separating index from values\n",
    "headers=dataset[:,0]\n",
    "data=dataset[:,1:].astype(float)\n",
    "\n",
    "#determining range of loops\n",
    "num_atoms=len(headers)\n",
    "\n",
    "#Iterating to repeat the calculation, first we select a row (ex: Oxygen). Inside every row, we substract \n",
    "\n",
    "with open('bond_lengths.txt','w+') as outfile:\n",
    "\n",
    "    for row in range(num_atoms):\n",
    "        for column in range(num_atoms):\n",
    "            if row<column: #We avoid replicate calculations, such as O-H1 and H1-0\n",
    "                x_distance = data[row,0] - data[column,0]\n",
    "                y_distance = data[row,1] - data[column,1]\n",
    "                z_distance = data[row,2] - data[column,2]\n",
    "                distance=np.sqrt(x_distance**2+y_distance**2+z_distance**2)\n",
    "\n",
    "                if distance<=1.5 and row!=column: #We avoid printing values that are not really bond (too far away, >1.5) and distances between same atoms (=0)\n",
    "                    outfile.write(F'{headers[row]} to {headers[column]}: {distance:.3f}\\n')\n"
   ]
  },
  {
   "cell_type": "code",
   "execution_count": null,
   "id": "be9902ca",
   "metadata": {},
   "outputs": [],
   "source": []
  }
 ],
 "metadata": {
  "kernelspec": {
   "display_name": "Python 3 (ipykernel)",
   "language": "python",
   "name": "python3"
  },
  "language_info": {
   "codemirror_mode": {
    "name": "ipython",
    "version": 3
   },
   "file_extension": ".py",
   "mimetype": "text/x-python",
   "name": "python",
   "nbconvert_exporter": "python",
   "pygments_lexer": "ipython3",
   "version": "3.11.5"
  }
 },
 "nbformat": 4,
 "nbformat_minor": 5
}
